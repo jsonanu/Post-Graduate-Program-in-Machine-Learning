{
 "cells": [
  {
   "cell_type": "markdown",
   "id": "5ea4e8b4",
   "metadata": {},
   "source": [
    "# Part A"
   ]
  },
  {
   "cell_type": "markdown",
   "id": "82dc410d",
   "metadata": {},
   "source": [
    "### Question 1\n",
    "\n",
    "Number of people who planned to purchase and actually place an order = 400. Total number of people = 2000\n",
    "\n",
    "Therefore, the joint probability of people who planned and actually placed an order = 400/2000 = 0.2\n",
    "\n",
    "Number of people who planned to purchase and actually place an order = 400. Total number of people who planned to purchase = 500\n",
    "\n",
    "Therefore, the joint probability of people who planned and puchased among the people who planned = 400/500 = 0.8\n"
   ]
  },
  {
   "cell_type": "markdown",
   "id": "a7b1a02e",
   "metadata": {},
   "source": [
    "### Question 2"
   ]
  },
  {
   "cell_type": "code",
   "execution_count": 67,
   "id": "482b7c9a",
   "metadata": {},
   "outputs": [],
   "source": [
    "import numpy as np\n",
    "import scipy.stats as stats\n",
    "import matplotlib.pyplot as plt\n",
    "%matplotlib inline\n",
    "n=10\n",
    "p=0.05\n",
    "k=np.arange(0,11)\n",
    "binomial = stats.binom.pmf(k,n,p).round(2)"
   ]
  },
  {
   "cell_type": "code",
   "execution_count": 68,
   "id": "46a63cbe",
   "metadata": {},
   "outputs": [
    {
     "name": "stdout",
     "output_type": "stream",
     "text": [
      "Probability that zero items are defective is 0.6\n",
      "Probability that one item is defective is 0.32\n",
      "Probability that two or fewer items are defective is 0.99\n",
      "Probability that three or more items are defective is 0.01\n"
     ]
    }
   ],
   "source": [
    "x=0\n",
    "prob0=binomial[0]\n",
    "print('Probability that zero items are defective is', prob0)\n",
    "x=1\n",
    "prob1=binomial[1]\n",
    "print('Probability that one item is defective is', prob1)\n",
    "prob3=sum(binomial[:3])\n",
    "print('Probability that two or fewer items are defective is', prob3)\n",
    "prob4=sum(binomial[3:])\n",
    "print('Probability that three or more items are defective is', prob4)"
   ]
  },
  {
   "cell_type": "markdown",
   "id": "06a490ae",
   "metadata": {},
   "source": [
    "### Question 3"
   ]
  },
  {
   "cell_type": "code",
   "execution_count": 69,
   "id": "32a48e89",
   "metadata": {},
   "outputs": [
    {
     "data": {
      "text/plain": [
       "array([0.05, 0.15, 0.22, 0.22, 0.17, 0.1 , 0.05, 0.02, 0.01, 0.  , 0.  ,\n",
       "       0.  , 0.  , 0.  , 0.  , 0.  , 0.  , 0.  , 0.  , 0.  ])"
      ]
     },
     "execution_count": 69,
     "metadata": {},
     "output_type": "execute_result"
    }
   ],
   "source": [
    "rate = 3\n",
    "n=np.arange(0,20)\n",
    "poisson = stats.poisson.pmf(n,rate).round(2)\n",
    "poisson"
   ]
  },
  {
   "cell_type": "code",
   "execution_count": 70,
   "id": "76e314a6",
   "metadata": {},
   "outputs": [
    {
     "name": "stdout",
     "output_type": "stream",
     "text": [
      "Probability that some cars are sold in a week 0.95\n",
      "Probability that two or more but less than five cars are sold in a week 0.39\n"
     ]
    }
   ],
   "source": [
    "prob1=1 - (poisson[0])\n",
    "print('Probability that some cars are sold in a week', prob1)\n",
    "prob2=1-sum(poisson[2:5])\n",
    "print('Probability that two or more but less than five cars are sold in a week', prob2)"
   ]
  },
  {
   "cell_type": "code",
   "execution_count": 71,
   "id": "d5a89417",
   "metadata": {},
   "outputs": [
    {
     "name": "stdout",
     "output_type": "stream",
     "text": [
      "[0.05 0.2  0.42 0.65 0.82 0.92 0.97 0.99 1.   1.   1.   1.   1.   1.\n",
      " 1.   1.   1.   1.   1.   1.  ]\n"
     ]
    },
    {
     "data": {
      "image/png": "[encoded data removed]",
      "text/plain": [
       "<Figure size 432x288 with 1 Axes>"
      ]
     },
     "metadata": {
      "needs_background": "light"
     },
     "output_type": "display_data"
    }
   ],
   "source": [
    "cum_poisson=stats.poisson.cdf(n,rate).round(2)\n",
    "print(cum_poisson)\n",
    "\n",
    "values=range(0,20,1)\n",
    "plt.plot(n,cum_poisson,'o-')\n",
    "plt.title('Poisson: $\\lambda$ = %i ' % rate)\n",
    "plt.xlabel('Number of cars sold per week')\n",
    "plt.ylabel('Cumulative probability of cars sold per week')\n",
    "plt.xticks(ticks=n, labels=values)\n",
    "plt.show()"
   ]
  },
  {
   "cell_type": "markdown",
   "id": "e7eb9fa3",
   "metadata": {},
   "source": [
    "### Question 4"
   ]
  },
  {
   "cell_type": "code",
   "execution_count": 72,
   "id": "c8b21cbb",
   "metadata": {},
   "outputs": [],
   "source": [
    "n=3\n",
    "p=.868\n",
    "k=np.arange(0,4)\n",
    "binomial = stats.binom.pmf(k,n,p).round(2)"
   ]
  },
  {
   "cell_type": "code",
   "execution_count": 73,
   "id": "392fb0ac",
   "metadata": {},
   "outputs": [
    {
     "name": "stdout",
     "output_type": "stream",
     "text": [
      "Probability that all the three orders will be recognised correctly is 0.65\n",
      "Probability that none of the three orders will be recognised correctly is 0.0\n",
      "Probability that at least two orders will be recognised correctly is 0.95\n"
     ]
    }
   ],
   "source": [
    "print('Probability that all the three orders will be recognised correctly is', binomial[3])\n",
    "print('Probability that none of the three orders will be recognised correctly is', binomial[0])\n",
    "print('Probability that at least two orders will be recognised correctly is', sum(binomial[2:]))"
   ]
  },
  {
   "cell_type": "markdown",
   "id": "4ce9bd8f",
   "metadata": {},
   "source": [
    "### Question 5"
   ]
  },
  {
   "cell_type": "markdown",
   "id": "f32ef410",
   "metadata": {},
   "source": [
    "Healthcare industry can benefit with the use of all the three probability distribution concepts in different scenarios. \n",
    "\n",
    "Firstly, when the probability of occurence of a non-communicable disease in a population with similar demographics and health parameters is known and we wish to know the probability that the disease will occur in some or all the members of a group of n number of individuals selected from the same population we can use the concept of Binomial distribution.\n",
    "\n",
    "Secondly, if a hospital wants to know whether there is a need for more doctors in their outpatient departments on a given day they can make use of the available data on the average number of patients attending the outpatient departments on that day to calculate the probabitlity of n number of patients attending the outpatient department on that day using the concept of Poisson distribution. Here, n must be more than the total number of patietns who can possibly be given an outpatient appointment with the doctors available on that day based on time constraints or other reasons. This not only helps in knowing whether there is a need to make more doctors available on the particular day but also in reducing the waiting times for patients to schedule an appointment with the doctor.\n",
    "\n",
    "Thirdly, if there is a large group of n number of similar hospitals and the mean cost per year for running the hospitals is calculated, we can also derive the standard deviation of the mean cost per year of the hospitals. Using this information we can calulate the probability of the mean cost per year of a hospital to be beyond certain amount, which will help in making better financial decisions. However, it was assumed that n is greater than or equal to 30 and no catastrophic healthcare costs were incurred in any of the hospitals in order to apply the concept of Normal distribution."
   ]
  },
  {
   "cell_type": "markdown",
   "id": "82e890be",
   "metadata": {},
   "source": [
    "# Part B"
   ]
  },
  {
   "cell_type": "code",
   "execution_count": 74,
   "id": "d053f2a0",
   "metadata": {},
   "outputs": [
    {
     "name": "stdout",
     "output_type": "stream",
     "text": [
      "<class 'pandas.core.frame.DataFrame'>\n",
      "RangeIndex: 61 entries, 0 to 60\n",
      "Data columns (total 13 columns):\n",
      " #   Column               Non-Null Count  Dtype \n",
      "---  ------               --------------  ----- \n",
      " 0   Team                 61 non-null     object\n",
      " 1   Tournament           61 non-null     int64 \n",
      " 2   Score                61 non-null     object\n",
      " 3   PlayedGames          61 non-null     object\n",
      " 4   WonGames             61 non-null     object\n",
      " 5   DrawnGames           61 non-null     object\n",
      " 6   LostGames            61 non-null     object\n",
      " 7   BasketScored         61 non-null     object\n",
      " 8   BasketGiven          61 non-null     object\n",
      " 9   TournamentChampion   61 non-null     object\n",
      " 10  Runner-up            61 non-null     object\n",
      " 11  TeamLaunch           61 non-null     object\n",
      " 12  HighestPositionHeld  61 non-null     int64 \n",
      "dtypes: int64(2), object(11)\n",
      "memory usage: 6.3+ KB\n"
     ]
    }
   ],
   "source": [
    "import pandas as pd\n",
    "df=pd.read_csv('Basketball.csv')\n",
    "df_original=pd.DataFrame(df)\n",
    "df_original.info()"
   ]
  },
  {
   "cell_type": "code",
   "execution_count": 75,
   "id": "2e872595",
   "metadata": {},
   "outputs": [
    {
     "data": {
      "text/html": [
       "<div>\n",
       "<style scoped>\n",
       "    .dataframe tbody tr th:only-of-type {\n",
       "        vertical-align: middle;\n",
       "    }\n",
       "\n",
       "    .dataframe tbody tr th {\n",
       "        vertical-align: top;\n",
       "    }\n",
       "\n",
       "    .dataframe thead th {\n",
       "        text-align: right;\n",
       "    }\n",
       "</style>\n",
       "<table border=\"1\" class=\"dataframe\">\n",
       "  <thead>\n",
       "    <tr style=\"text-align: right;\">\n",
       "      <th></th>\n",
       "      <th>Team</th>\n",
       "      <th>Tournament</th>\n",
       "      <th>Score</th>\n",
       "      <th>PlayedGames</th>\n",
       "      <th>WonGames</th>\n",
       "      <th>DrawnGames</th>\n",
       "      <th>LostGames</th>\n",
       "      <th>BasketScored</th>\n",
       "      <th>BasketGiven</th>\n",
       "      <th>TournamentChampion</th>\n",
       "      <th>Runner-up</th>\n",
       "      <th>TeamLaunch</th>\n",
       "      <th>HighestPositionHeld</th>\n",
       "    </tr>\n",
       "  </thead>\n",
       "  <tbody>\n",
       "    <tr>\n",
       "      <th>0</th>\n",
       "      <td>Team 1</td>\n",
       "      <td>86</td>\n",
       "      <td>4385</td>\n",
       "      <td>2762</td>\n",
       "      <td>1647</td>\n",
       "      <td>552</td>\n",
       "      <td>563</td>\n",
       "      <td>5947</td>\n",
       "      <td>3140</td>\n",
       "      <td>33</td>\n",
       "      <td>23</td>\n",
       "      <td>1929</td>\n",
       "      <td>1</td>\n",
       "    </tr>\n",
       "    <tr>\n",
       "      <th>1</th>\n",
       "      <td>Team 2</td>\n",
       "      <td>86</td>\n",
       "      <td>4262</td>\n",
       "      <td>2762</td>\n",
       "      <td>1581</td>\n",
       "      <td>573</td>\n",
       "      <td>608</td>\n",
       "      <td>5900</td>\n",
       "      <td>3114</td>\n",
       "      <td>25</td>\n",
       "      <td>25</td>\n",
       "      <td>1929</td>\n",
       "      <td>1</td>\n",
       "    </tr>\n",
       "    <tr>\n",
       "      <th>2</th>\n",
       "      <td>Team 3</td>\n",
       "      <td>80</td>\n",
       "      <td>3442</td>\n",
       "      <td>2614</td>\n",
       "      <td>1241</td>\n",
       "      <td>598</td>\n",
       "      <td>775</td>\n",
       "      <td>4534</td>\n",
       "      <td>3309</td>\n",
       "      <td>10</td>\n",
       "      <td>8</td>\n",
       "      <td>1929</td>\n",
       "      <td>1</td>\n",
       "    </tr>\n",
       "    <tr>\n",
       "      <th>3</th>\n",
       "      <td>Team 4</td>\n",
       "      <td>82</td>\n",
       "      <td>3386</td>\n",
       "      <td>2664</td>\n",
       "      <td>1187</td>\n",
       "      <td>616</td>\n",
       "      <td>861</td>\n",
       "      <td>4398</td>\n",
       "      <td>3469</td>\n",
       "      <td>6</td>\n",
       "      <td>6</td>\n",
       "      <td>1931to32</td>\n",
       "      <td>1</td>\n",
       "    </tr>\n",
       "    <tr>\n",
       "      <th>4</th>\n",
       "      <td>Team 5</td>\n",
       "      <td>86</td>\n",
       "      <td>3368</td>\n",
       "      <td>2762</td>\n",
       "      <td>1209</td>\n",
       "      <td>633</td>\n",
       "      <td>920</td>\n",
       "      <td>4631</td>\n",
       "      <td>3700</td>\n",
       "      <td>8</td>\n",
       "      <td>7</td>\n",
       "      <td>1929</td>\n",
       "      <td>1</td>\n",
       "    </tr>\n",
       "  </tbody>\n",
       "</table>\n",
       "</div>"
      ],
      "text/plain": [
       "     Team  Tournament Score PlayedGames WonGames DrawnGames LostGames  \\\n",
       "0  Team 1          86  4385        2762     1647        552       563   \n",
       "1  Team 2          86  4262        2762     1581        573       608   \n",
       "2  Team 3          80  3442        2614     1241        598       775   \n",
       "3  Team 4          82  3386        2664     1187        616       861   \n",
       "4  Team 5          86  3368        2762     1209        633       920   \n",
       "\n",
       "  BasketScored BasketGiven TournamentChampion Runner-up TeamLaunch  \\\n",
       "0         5947        3140                 33        23       1929   \n",
       "1         5900        3114                 25        25       1929   \n",
       "2         4534        3309                 10         8       1929   \n",
       "3         4398        3469                  6         6   1931to32   \n",
       "4         4631        3700                  8         7       1929   \n",
       "\n",
       "   HighestPositionHeld  \n",
       "0                    1  \n",
       "1                    1  \n",
       "2                    1  \n",
       "3                    1  \n",
       "4                    1  "
      ]
     },
     "execution_count": 75,
     "metadata": {},
     "output_type": "execute_result"
    }
   ],
   "source": [
    "df_original.head()"
   ]
  },
  {
   "cell_type": "code",
   "execution_count": 76,
   "id": "166f1ba8",
   "metadata": {},
   "outputs": [
    {
     "data": {
      "text/html": [
       "<div>\n",
       "<style scoped>\n",
       "    .dataframe tbody tr th:only-of-type {\n",
       "        vertical-align: middle;\n",
       "    }\n",
       "\n",
       "    .dataframe tbody tr th {\n",
       "        vertical-align: top;\n",
       "    }\n",
       "\n",
       "    .dataframe thead th {\n",
       "        text-align: right;\n",
       "    }\n",
       "</style>\n",
       "<table border=\"1\" class=\"dataframe\">\n",
       "  <thead>\n",
       "    <tr style=\"text-align: right;\">\n",
       "      <th></th>\n",
       "      <th>Team</th>\n",
       "      <th>Tournament</th>\n",
       "      <th>Score</th>\n",
       "      <th>PlayedGames</th>\n",
       "      <th>WonGames</th>\n",
       "      <th>DrawnGames</th>\n",
       "      <th>LostGames</th>\n",
       "      <th>BasketScored</th>\n",
       "      <th>BasketGiven</th>\n",
       "      <th>TournamentChampion</th>\n",
       "      <th>Runner-up</th>\n",
       "      <th>TeamLaunch</th>\n",
       "      <th>HighestPositionHeld</th>\n",
       "    </tr>\n",
       "  </thead>\n",
       "  <tbody>\n",
       "    <tr>\n",
       "      <th>55</th>\n",
       "      <td>Team 56</td>\n",
       "      <td>1</td>\n",
       "      <td>35</td>\n",
       "      <td>38</td>\n",
       "      <td>8</td>\n",
       "      <td>11</td>\n",
       "      <td>19</td>\n",
       "      <td>36</td>\n",
       "      <td>55</td>\n",
       "      <td>-</td>\n",
       "      <td>-</td>\n",
       "      <td>2016_17</td>\n",
       "      <td>17</td>\n",
       "    </tr>\n",
       "    <tr>\n",
       "      <th>56</th>\n",
       "      <td>Team 57</td>\n",
       "      <td>1</td>\n",
       "      <td>34</td>\n",
       "      <td>38</td>\n",
       "      <td>8</td>\n",
       "      <td>10</td>\n",
       "      <td>20</td>\n",
       "      <td>38</td>\n",
       "      <td>66</td>\n",
       "      <td>-</td>\n",
       "      <td>-</td>\n",
       "      <td>2009-10</td>\n",
       "      <td>20</td>\n",
       "    </tr>\n",
       "    <tr>\n",
       "      <th>57</th>\n",
       "      <td>Team 58</td>\n",
       "      <td>1</td>\n",
       "      <td>22</td>\n",
       "      <td>30</td>\n",
       "      <td>7</td>\n",
       "      <td>8</td>\n",
       "      <td>15</td>\n",
       "      <td>37</td>\n",
       "      <td>57</td>\n",
       "      <td>-</td>\n",
       "      <td>-</td>\n",
       "      <td>1956-57</td>\n",
       "      <td>16</td>\n",
       "    </tr>\n",
       "    <tr>\n",
       "      <th>58</th>\n",
       "      <td>Team 59</td>\n",
       "      <td>1</td>\n",
       "      <td>19</td>\n",
       "      <td>30</td>\n",
       "      <td>7</td>\n",
       "      <td>5</td>\n",
       "      <td>18</td>\n",
       "      <td>51</td>\n",
       "      <td>85</td>\n",
       "      <td>-</td>\n",
       "      <td>-</td>\n",
       "      <td>1951~52</td>\n",
       "      <td>16</td>\n",
       "    </tr>\n",
       "    <tr>\n",
       "      <th>59</th>\n",
       "      <td>Team 60</td>\n",
       "      <td>1</td>\n",
       "      <td>14</td>\n",
       "      <td>30</td>\n",
       "      <td>5</td>\n",
       "      <td>4</td>\n",
       "      <td>21</td>\n",
       "      <td>34</td>\n",
       "      <td>65</td>\n",
       "      <td>-</td>\n",
       "      <td>-</td>\n",
       "      <td>1955-56</td>\n",
       "      <td>15</td>\n",
       "    </tr>\n",
       "  </tbody>\n",
       "</table>\n",
       "</div>"
      ],
      "text/plain": [
       "       Team  Tournament Score PlayedGames WonGames DrawnGames LostGames  \\\n",
       "55  Team 56           1    35          38        8         11        19   \n",
       "56  Team 57           1    34          38        8         10        20   \n",
       "57  Team 58           1    22          30        7          8        15   \n",
       "58  Team 59           1    19          30        7          5        18   \n",
       "59  Team 60           1    14          30        5          4        21   \n",
       "\n",
       "   BasketScored BasketGiven TournamentChampion Runner-up TeamLaunch  \\\n",
       "55           36          55                  -         -    2016_17   \n",
       "56           38          66                  -         -    2009-10   \n",
       "57           37          57                  -         -    1956-57   \n",
       "58           51          85                  -         -    1951~52   \n",
       "59           34          65                  -         -    1955-56   \n",
       "\n",
       "    HighestPositionHeld  \n",
       "55                   17  \n",
       "56                   20  \n",
       "57                   16  \n",
       "58                   16  \n",
       "59                   15  "
      ]
     },
     "execution_count": 76,
     "metadata": {},
     "output_type": "execute_result"
    }
   ],
   "source": [
    "df_cleaned=pd.DataFrame(df_original[df_original.Team != 'Team 61']) #Team 61 has missing data in almost all the columns\n",
    "df_cleaned.tail()"
   ]
  },
  {
   "cell_type": "code",
   "execution_count": 77,
   "id": "57c7a8bb",
   "metadata": {},
   "outputs": [
    {
     "name": "stdout",
     "output_type": "stream",
     "text": [
      "<class 'pandas.core.frame.DataFrame'>\n",
      "Int64Index: 60 entries, 0 to 59\n",
      "Data columns (total 13 columns):\n",
      " #   Column               Non-Null Count  Dtype \n",
      "---  ------               --------------  ----- \n",
      " 0   Team                 60 non-null     string\n",
      " 1   Tournament           60 non-null     Int64 \n",
      " 2   Score                60 non-null     string\n",
      " 3   PlayedGames          60 non-null     string\n",
      " 4   WonGames             60 non-null     string\n",
      " 5   DrawnGames           60 non-null     string\n",
      " 6   LostGames            60 non-null     string\n",
      " 7   BasketScored         60 non-null     string\n",
      " 8   BasketGiven          60 non-null     string\n",
      " 9   TournamentChampion   60 non-null     string\n",
      " 10  Runner-up            60 non-null     string\n",
      " 11  TeamLaunch           60 non-null     string\n",
      " 12  HighestPositionHeld  60 non-null     Int64 \n",
      "dtypes: Int64(2), string(11)\n",
      "memory usage: 6.7 KB\n"
     ]
    }
   ],
   "source": [
    "df_cleaned=df_cleaned.convert_dtypes()\n",
    "df_cleaned.info()"
   ]
  },
  {
   "cell_type": "code",
   "execution_count": 78,
   "id": "78dab7d1",
   "metadata": {},
   "outputs": [
    {
     "name": "stdout",
     "output_type": "stream",
     "text": [
      "<class 'pandas.core.frame.DataFrame'>\n",
      "Int64Index: 60 entries, 0 to 59\n",
      "Data columns (total 13 columns):\n",
      " #   Column               Non-Null Count  Dtype  \n",
      "---  ------               --------------  -----  \n",
      " 0   Team                 60 non-null     string \n",
      " 1   Tournament           60 non-null     Int64  \n",
      " 2   Score                60 non-null     float64\n",
      " 3   PlayedGames          60 non-null     float64\n",
      " 4   WonGames             60 non-null     float64\n",
      " 5   DrawnGames           60 non-null     float64\n",
      " 6   LostGames            60 non-null     float64\n",
      " 7   BasketScored         60 non-null     float64\n",
      " 8   BasketGiven          60 non-null     float64\n",
      " 9   TournamentChampion   60 non-null     string \n",
      " 10  Runner-up            60 non-null     string \n",
      " 11  TeamLaunch           60 non-null     string \n",
      " 12  HighestPositionHeld  60 non-null     Int64  \n",
      "dtypes: Int64(2), float64(7), string(4)\n",
      "memory usage: 6.7 KB\n"
     ]
    }
   ],
   "source": [
    "df_cleaned['Score']=df_cleaned['Score'].astype(str).astype(float)\n",
    "df_cleaned['PlayedGames']=df_cleaned['PlayedGames'].astype(str).astype(float)\n",
    "df_cleaned['WonGames']=df_cleaned['WonGames'].astype(str).astype(float)\n",
    "df_cleaned['DrawnGames']=df_cleaned['DrawnGames'].astype(str).astype(float)\n",
    "df_cleaned['LostGames']=df_cleaned['LostGames'].astype(str).astype(float)\n",
    "df_cleaned['BasketScored']=df_cleaned['BasketScored'].astype(str).astype(float)\n",
    "df_cleaned['BasketGiven']=df_cleaned['BasketGiven'].astype(str).astype(float)\n",
    "df_cleaned.info()"
   ]
  },
  {
   "cell_type": "code",
   "execution_count": 79,
   "id": "edfd5e4e",
   "metadata": {},
   "outputs": [
    {
     "name": "stdout",
     "output_type": "stream",
     "text": [
      "The percentage of missing values in TouranmentChampion column is 85.0\n",
      "The percentage of missing values in Runner-up column is 78.33333333333333\n"
     ]
    }
   ],
   "source": [
    "missing=pd.DataFrame({'value' : df_cleaned['TournamentChampion'], 'Missing?' : df_cleaned['TournamentChampion']=='-'})\n",
    "x=sum(missing['Missing?']==True)\n",
    "missing_percent=x/60*100\n",
    "print('The percentage of missing values in TouranmentChampion column is',missing_percent)\n",
    "\n",
    "missing2=pd.DataFrame({'value' : df_cleaned['Runner-up'], 'Missing?' : df_cleaned['Runner-up']=='-'})\n",
    "x2=sum(missing2['Missing?']==True)\n",
    "missing_percent2=x2/60*100\n",
    "print('The percentage of missing values in Runner-up column is',missing_percent2)"
   ]
  },
  {
   "cell_type": "code",
   "execution_count": 80,
   "id": "f2b3ce81",
   "metadata": {},
   "outputs": [],
   "source": [
    "df_cleaned.drop(labels=['TournamentChampion','Runner-up'],inplace=True,axis=1) # These columns have greater than 50% missing data. Therefore they were removed without imputing. "
   ]
  },
  {
   "cell_type": "code",
   "execution_count": 81,
   "id": "9380df57",
   "metadata": {},
   "outputs": [
    {
     "name": "stdout",
     "output_type": "stream",
     "text": [
      "0     1929\n",
      "1     1929\n",
      "2     1929\n",
      "3     1931\n",
      "4     1929\n",
      "5     1934\n",
      "6     1929\n",
      "7     1929\n",
      "8     1939\n",
      "9     1932\n",
      "10    1941\n",
      "11    1939\n",
      "12    1948\n",
      "13    1929\n",
      "14    1944\n",
      "15    1935\n",
      "16    1949\n",
      "17    1933\n",
      "18    1960\n",
      "19    1951\n",
      "20    1998\n",
      "21    1941\n",
      "22    1977\n",
      "23    1959\n",
      "24    2004\n",
      "25    1935\n",
      "26    1961\n",
      "27    1940\n",
      "28    1930\n",
      "29    1963\n",
      "30    1974\n",
      "31    1943\n",
      "32    1977\n",
      "33    1987\n",
      "34    1941\n",
      "35    1991\n",
      "36    2007\n",
      "37    1962\n",
      "38    1994\n",
      "39    1978\n",
      "40    1971\n",
      "41    1963\n",
      "42    1999\n",
      "43    2014\n",
      "44    1929\n",
      "45    1990\n",
      "46    1947\n",
      "47    1996\n",
      "48    1995\n",
      "49    1945\n",
      "50    1953\n",
      "51    1929\n",
      "52    1979\n",
      "53    1929\n",
      "54    1950\n",
      "55    2016\n",
      "56    2009\n",
      "57    1956\n",
      "58    1951\n",
      "59    1955\n",
      "Name: TeamLaunch, dtype: int32\n"
     ]
    }
   ],
   "source": [
    "for i in range(0,60,1):\n",
    "    if len(df_cleaned['TeamLaunch'][i])==4:\n",
    "        df_cleaned['TeamLaunch'][i]=df_cleaned['TeamLaunch'][i]\n",
    "    else:\n",
    "        df_cleaned['TeamLaunch'][i]=df_cleaned['TeamLaunch'][i].replace(df_cleaned['TeamLaunch'][i],df_cleaned['TeamLaunch'][i][0:4])\n",
    "    i+=1\n",
    "\n",
    "df_cleaned['TeamLaunch']=df_cleaned['TeamLaunch'].astype(str).astype(int)\n",
    "print(df_cleaned['TeamLaunch'])"
   ]
  },
  {
   "cell_type": "code",
   "execution_count": 82,
   "id": "84a22a42",
   "metadata": {},
   "outputs": [
    {
     "name": "stdout",
     "output_type": "stream",
     "text": [
      "<class 'pandas.core.frame.DataFrame'>\n",
      "Int64Index: 60 entries, 0 to 59\n",
      "Data columns (total 11 columns):\n",
      " #   Column               Non-Null Count  Dtype  \n",
      "---  ------               --------------  -----  \n",
      " 0   Team                 60 non-null     string \n",
      " 1   Tournament           60 non-null     Int64  \n",
      " 2   Score                60 non-null     float64\n",
      " 3   PlayedGames          60 non-null     float64\n",
      " 4   WonGames             60 non-null     float64\n",
      " 5   DrawnGames           60 non-null     float64\n",
      " 6   LostGames            60 non-null     float64\n",
      " 7   BasketScored         60 non-null     float64\n",
      " 8   BasketGiven          60 non-null     float64\n",
      " 9   TeamLaunch           60 non-null     int32  \n",
      " 10  HighestPositionHeld  60 non-null     Int64  \n",
      "dtypes: Int64(2), float64(7), int32(1), string(1)\n",
      "memory usage: 7.6 KB\n"
     ]
    }
   ],
   "source": [
    "df_cleaned.info()"
   ]
  },
  {
   "cell_type": "code",
   "execution_count": 83,
   "id": "edf43089",
   "metadata": {},
   "outputs": [],
   "source": [
    "df_cleaned.to_csv('Basketball_cleaned.csv',index=False)"
   ]
  },
  {
   "cell_type": "markdown",
   "id": "31fce5a7",
   "metadata": {},
   "source": [
    "The outlier detection was not done because this data belongs to the sports domain. Therefore, it is quite difficult to consider that a particular number is a true outlier in this dataset."
   ]
  },
  {
   "cell_type": "code",
   "execution_count": 84,
   "id": "4132bfc2",
   "metadata": {},
   "outputs": [
    {
     "data": {
      "text/html": [
       "<div>\n",
       "<style scoped>\n",
       "    .dataframe tbody tr th:only-of-type {\n",
       "        vertical-align: middle;\n",
       "    }\n",
       "\n",
       "    .dataframe tbody tr th {\n",
       "        vertical-align: top;\n",
       "    }\n",
       "\n",
       "    .dataframe thead th {\n",
       "        text-align: right;\n",
       "    }\n",
       "</style>\n",
       "<table border=\"1\" class=\"dataframe\">\n",
       "  <thead>\n",
       "    <tr style=\"text-align: right;\">\n",
       "      <th></th>\n",
       "      <th>Tournament</th>\n",
       "      <th>Score</th>\n",
       "      <th>PlayedGames</th>\n",
       "      <th>WonGames</th>\n",
       "      <th>DrawnGames</th>\n",
       "      <th>LostGames</th>\n",
       "      <th>BasketScored</th>\n",
       "      <th>BasketGiven</th>\n",
       "      <th>TeamLaunch</th>\n",
       "      <th>HighestPositionHeld</th>\n",
       "    </tr>\n",
       "  </thead>\n",
       "  <tbody>\n",
       "    <tr>\n",
       "      <th>count</th>\n",
       "      <td>60.00</td>\n",
       "      <td>60.00</td>\n",
       "      <td>60.00</td>\n",
       "      <td>60.00</td>\n",
       "      <td>60.00</td>\n",
       "      <td>60.00</td>\n",
       "      <td>60.00</td>\n",
       "      <td>60.00</td>\n",
       "      <td>60.00</td>\n",
       "      <td>60.00</td>\n",
       "    </tr>\n",
       "    <tr>\n",
       "      <th>mean</th>\n",
       "      <td>24.38</td>\n",
       "      <td>916.45</td>\n",
       "      <td>810.10</td>\n",
       "      <td>309.03</td>\n",
       "      <td>192.08</td>\n",
       "      <td>308.82</td>\n",
       "      <td>1159.35</td>\n",
       "      <td>1159.23</td>\n",
       "      <td>1957.95</td>\n",
       "      <td>7.05</td>\n",
       "    </tr>\n",
       "    <tr>\n",
       "      <th>std</th>\n",
       "      <td>26.88</td>\n",
       "      <td>1138.34</td>\n",
       "      <td>877.47</td>\n",
       "      <td>408.48</td>\n",
       "      <td>201.99</td>\n",
       "      <td>294.51</td>\n",
       "      <td>1512.06</td>\n",
       "      <td>1163.95</td>\n",
       "      <td>26.65</td>\n",
       "      <td>5.32</td>\n",
       "    </tr>\n",
       "    <tr>\n",
       "      <th>min</th>\n",
       "      <td>1.00</td>\n",
       "      <td>14.00</td>\n",
       "      <td>30.00</td>\n",
       "      <td>5.00</td>\n",
       "      <td>4.00</td>\n",
       "      <td>15.00</td>\n",
       "      <td>34.00</td>\n",
       "      <td>55.00</td>\n",
       "      <td>1929.00</td>\n",
       "      <td>1.00</td>\n",
       "    </tr>\n",
       "    <tr>\n",
       "      <th>25%</th>\n",
       "      <td>4.00</td>\n",
       "      <td>104.25</td>\n",
       "      <td>115.50</td>\n",
       "      <td>34.75</td>\n",
       "      <td>26.25</td>\n",
       "      <td>62.75</td>\n",
       "      <td>154.50</td>\n",
       "      <td>236.00</td>\n",
       "      <td>1934.75</td>\n",
       "      <td>3.00</td>\n",
       "    </tr>\n",
       "    <tr>\n",
       "      <th>50%</th>\n",
       "      <td>12.00</td>\n",
       "      <td>395.50</td>\n",
       "      <td>424.50</td>\n",
       "      <td>124.00</td>\n",
       "      <td>98.50</td>\n",
       "      <td>197.50</td>\n",
       "      <td>444.00</td>\n",
       "      <td>632.50</td>\n",
       "      <td>1950.50</td>\n",
       "      <td>6.00</td>\n",
       "    </tr>\n",
       "    <tr>\n",
       "      <th>75%</th>\n",
       "      <td>39.00</td>\n",
       "      <td>1360.50</td>\n",
       "      <td>1345.50</td>\n",
       "      <td>432.75</td>\n",
       "      <td>331.50</td>\n",
       "      <td>563.50</td>\n",
       "      <td>1669.75</td>\n",
       "      <td>2001.25</td>\n",
       "      <td>1977.25</td>\n",
       "      <td>10.00</td>\n",
       "    </tr>\n",
       "    <tr>\n",
       "      <th>max</th>\n",
       "      <td>86.00</td>\n",
       "      <td>4385.00</td>\n",
       "      <td>2762.00</td>\n",
       "      <td>1647.00</td>\n",
       "      <td>633.00</td>\n",
       "      <td>1070.00</td>\n",
       "      <td>5947.00</td>\n",
       "      <td>3889.00</td>\n",
       "      <td>2016.00</td>\n",
       "      <td>20.00</td>\n",
       "    </tr>\n",
       "  </tbody>\n",
       "</table>\n",
       "</div>"
      ],
      "text/plain": [
       "       Tournament    Score  PlayedGames  WonGames  DrawnGames  LostGames  \\\n",
       "count       60.00    60.00        60.00     60.00       60.00      60.00   \n",
       "mean        24.38   916.45       810.10    309.03      192.08     308.82   \n",
       "std         26.88  1138.34       877.47    408.48      201.99     294.51   \n",
       "min          1.00    14.00        30.00      5.00        4.00      15.00   \n",
       "25%          4.00   104.25       115.50     34.75       26.25      62.75   \n",
       "50%         12.00   395.50       424.50    124.00       98.50     197.50   \n",
       "75%         39.00  1360.50      1345.50    432.75      331.50     563.50   \n",
       "max         86.00  4385.00      2762.00   1647.00      633.00    1070.00   \n",
       "\n",
       "       BasketScored  BasketGiven  TeamLaunch  HighestPositionHeld  \n",
       "count         60.00        60.00       60.00                60.00  \n",
       "mean        1159.35      1159.23     1957.95                 7.05  \n",
       "std         1512.06      1163.95       26.65                 5.32  \n",
       "min           34.00        55.00     1929.00                 1.00  \n",
       "25%          154.50       236.00     1934.75                 3.00  \n",
       "50%          444.00       632.50     1950.50                 6.00  \n",
       "75%         1669.75      2001.25     1977.25                10.00  \n",
       "max         5947.00      3889.00     2016.00                20.00  "
      ]
     },
     "execution_count": 84,
     "metadata": {},
     "output_type": "execute_result"
    }
   ],
   "source": [
    "import seaborn as sns\n",
    "data=pd.read_csv('Basketball_cleaned.csv')\n",
    "data.describe().round(2)"
   ]
  },
  {
   "cell_type": "code",
   "execution_count": 85,
   "id": "b3b72a03",
   "metadata": {},
   "outputs": [],
   "source": [
    "data['Win_percent']=data['WonGames']/data['PlayedGames']*100\n",
    "data['Draw_percent']=data['DrawnGames']/data['PlayedGames']*100\n",
    "data['Loss_percent']=data['LostGames']/data['PlayedGames']*100\n",
    "\n",
    "data['Ratio_scored_given']=data['BasketScored']/data['BasketGiven']\n",
    "\n",
    "groups=list(range(0,60,1))\n",
    "for i in range(0,60,1):\n",
    "    if i<=14:\n",
    "        groups[i]='A'\n",
    "    elif i>14 and i<=29:\n",
    "        groups[i]='B'\n",
    "    elif i>29 and i<=44:\n",
    "        groups[i]='C'\n",
    "    else:\n",
    "        groups[i]='D'\n",
    "i+=1\n",
    "\n",
    "data['Team_groups']=groups"
   ]
  },
  {
   "cell_type": "markdown",
   "id": "74b64fb4",
   "metadata": {},
   "source": [
    "After analyzing the data a new column was created to group the teams based on thier performance as A, B, C, and D in the decreasing order of their performance with A group having the best performing teams and D group having the least performing teams."
   ]
  },
  {
   "cell_type": "code",
   "execution_count": 86,
   "id": "1306e234",
   "metadata": {},
   "outputs": [
    {
     "data": {
      "text/html": [
       "<div>\n",
       "<style scoped>\n",
       "    .dataframe tbody tr th:only-of-type {\n",
       "        vertical-align: middle;\n",
       "    }\n",
       "\n",
       "    .dataframe tbody tr th {\n",
       "        vertical-align: top;\n",
       "    }\n",
       "\n",
       "    .dataframe thead th {\n",
       "        text-align: right;\n",
       "    }\n",
       "</style>\n",
       "<table border=\"1\" class=\"dataframe\">\n",
       "  <thead>\n",
       "    <tr style=\"text-align: right;\">\n",
       "      <th></th>\n",
       "      <th>Team</th>\n",
       "      <th>Tournament</th>\n",
       "      <th>Score</th>\n",
       "      <th>PlayedGames</th>\n",
       "      <th>WonGames</th>\n",
       "      <th>DrawnGames</th>\n",
       "      <th>LostGames</th>\n",
       "      <th>BasketScored</th>\n",
       "      <th>BasketGiven</th>\n",
       "      <th>TeamLaunch</th>\n",
       "      <th>HighestPositionHeld</th>\n",
       "      <th>Win_percent</th>\n",
       "      <th>Draw_percent</th>\n",
       "      <th>Loss_percent</th>\n",
       "      <th>Ratio_scored_given</th>\n",
       "      <th>Team_groups</th>\n",
       "    </tr>\n",
       "  </thead>\n",
       "  <tbody>\n",
       "    <tr>\n",
       "      <th>0</th>\n",
       "      <td>Team 1</td>\n",
       "      <td>86</td>\n",
       "      <td>4385.0</td>\n",
       "      <td>2762.0</td>\n",
       "      <td>1647.0</td>\n",
       "      <td>552.0</td>\n",
       "      <td>563.0</td>\n",
       "      <td>5947.0</td>\n",
       "      <td>3140.0</td>\n",
       "      <td>1929</td>\n",
       "      <td>1</td>\n",
       "      <td>59.630702</td>\n",
       "      <td>19.985518</td>\n",
       "      <td>20.383780</td>\n",
       "      <td>1.893949</td>\n",
       "      <td>A</td>\n",
       "    </tr>\n",
       "    <tr>\n",
       "      <th>1</th>\n",
       "      <td>Team 2</td>\n",
       "      <td>86</td>\n",
       "      <td>4262.0</td>\n",
       "      <td>2762.0</td>\n",
       "      <td>1581.0</td>\n",
       "      <td>573.0</td>\n",
       "      <td>608.0</td>\n",
       "      <td>5900.0</td>\n",
       "      <td>3114.0</td>\n",
       "      <td>1929</td>\n",
       "      <td>1</td>\n",
       "      <td>57.241130</td>\n",
       "      <td>20.745836</td>\n",
       "      <td>22.013034</td>\n",
       "      <td>1.894669</td>\n",
       "      <td>A</td>\n",
       "    </tr>\n",
       "    <tr>\n",
       "      <th>2</th>\n",
       "      <td>Team 3</td>\n",
       "      <td>80</td>\n",
       "      <td>3442.0</td>\n",
       "      <td>2614.0</td>\n",
       "      <td>1241.0</td>\n",
       "      <td>598.0</td>\n",
       "      <td>775.0</td>\n",
       "      <td>4534.0</td>\n",
       "      <td>3309.0</td>\n",
       "      <td>1929</td>\n",
       "      <td>1</td>\n",
       "      <td>47.475134</td>\n",
       "      <td>22.876817</td>\n",
       "      <td>29.648049</td>\n",
       "      <td>1.370202</td>\n",
       "      <td>A</td>\n",
       "    </tr>\n",
       "    <tr>\n",
       "      <th>3</th>\n",
       "      <td>Team 4</td>\n",
       "      <td>82</td>\n",
       "      <td>3386.0</td>\n",
       "      <td>2664.0</td>\n",
       "      <td>1187.0</td>\n",
       "      <td>616.0</td>\n",
       "      <td>861.0</td>\n",
       "      <td>4398.0</td>\n",
       "      <td>3469.0</td>\n",
       "      <td>1931</td>\n",
       "      <td>1</td>\n",
       "      <td>44.557057</td>\n",
       "      <td>23.123123</td>\n",
       "      <td>32.319820</td>\n",
       "      <td>1.267801</td>\n",
       "      <td>A</td>\n",
       "    </tr>\n",
       "    <tr>\n",
       "      <th>4</th>\n",
       "      <td>Team 5</td>\n",
       "      <td>86</td>\n",
       "      <td>3368.0</td>\n",
       "      <td>2762.0</td>\n",
       "      <td>1209.0</td>\n",
       "      <td>633.0</td>\n",
       "      <td>920.0</td>\n",
       "      <td>4631.0</td>\n",
       "      <td>3700.0</td>\n",
       "      <td>1929</td>\n",
       "      <td>1</td>\n",
       "      <td>43.772629</td>\n",
       "      <td>22.918175</td>\n",
       "      <td>33.309196</td>\n",
       "      <td>1.251622</td>\n",
       "      <td>A</td>\n",
       "    </tr>\n",
       "  </tbody>\n",
       "</table>\n",
       "</div>"
      ],
      "text/plain": [
       "     Team  Tournament   Score  PlayedGames  WonGames  DrawnGames  LostGames  \\\n",
       "0  Team 1          86  4385.0       2762.0    1647.0       552.0      563.0   \n",
       "1  Team 2          86  4262.0       2762.0    1581.0       573.0      608.0   \n",
       "2  Team 3          80  3442.0       2614.0    1241.0       598.0      775.0   \n",
       "3  Team 4          82  3386.0       2664.0    1187.0       616.0      861.0   \n",
       "4  Team 5          86  3368.0       2762.0    1209.0       633.0      920.0   \n",
       "\n",
       "   BasketScored  BasketGiven  TeamLaunch  HighestPositionHeld  Win_percent  \\\n",
       "0        5947.0       3140.0        1929                    1    59.630702   \n",
       "1        5900.0       3114.0        1929                    1    57.241130   \n",
       "2        4534.0       3309.0        1929                    1    47.475134   \n",
       "3        4398.0       3469.0        1931                    1    44.557057   \n",
       "4        4631.0       3700.0        1929                    1    43.772629   \n",
       "\n",
       "   Draw_percent  Loss_percent  Ratio_scored_given Team_groups  \n",
       "0     19.985518     20.383780            1.893949           A  \n",
       "1     20.745836     22.013034            1.894669           A  \n",
       "2     22.876817     29.648049            1.370202           A  \n",
       "3     23.123123     32.319820            1.267801           A  \n",
       "4     22.918175     33.309196            1.251622           A  "
      ]
     },
     "execution_count": 86,
     "metadata": {},
     "output_type": "execute_result"
    }
   ],
   "source": [
    "data.head(5)"
   ]
  },
  {
   "cell_type": "code",
   "execution_count": 87,
   "id": "45659e6c",
   "metadata": {},
   "outputs": [
    {
     "data": {
      "text/plain": [
       "True     59\n",
       "False     1\n",
       "dtype: int64"
      ]
     },
     "execution_count": 87,
     "metadata": {},
     "output_type": "execute_result"
    }
   ],
   "source": [
    "check=pd.DataFrame(data['WonGames']+data['DrawnGames']+data['LostGames']==data['PlayedGames']).value_counts()\n",
    "check"
   ]
  },
  {
   "cell_type": "markdown",
   "id": "5584e6ca",
   "metadata": {},
   "source": [
    "There is an error in either the number of total games played column or in one of the columns about the result of the games played."
   ]
  },
  {
   "cell_type": "code",
   "execution_count": 88,
   "id": "c4655bcc",
   "metadata": {},
   "outputs": [
    {
     "data": {
      "text/html": [
       "<div>\n",
       "<style scoped>\n",
       "    .dataframe tbody tr th:only-of-type {\n",
       "        vertical-align: middle;\n",
       "    }\n",
       "\n",
       "    .dataframe tbody tr th {\n",
       "        vertical-align: top;\n",
       "    }\n",
       "\n",
       "    .dataframe thead th {\n",
       "        text-align: right;\n",
       "    }\n",
       "</style>\n",
       "<table border=\"1\" class=\"dataframe\">\n",
       "  <thead>\n",
       "    <tr style=\"text-align: right;\">\n",
       "      <th></th>\n",
       "      <th>Tournament</th>\n",
       "      <th>Score</th>\n",
       "      <th>PlayedGames</th>\n",
       "      <th>WonGames</th>\n",
       "      <th>DrawnGames</th>\n",
       "      <th>LostGames</th>\n",
       "      <th>BasketScored</th>\n",
       "      <th>BasketGiven</th>\n",
       "      <th>TeamLaunch</th>\n",
       "      <th>HighestPositionHeld</th>\n",
       "      <th>Win_percent</th>\n",
       "      <th>Draw_percent</th>\n",
       "      <th>Loss_percent</th>\n",
       "      <th>Ratio_scored_given</th>\n",
       "    </tr>\n",
       "  </thead>\n",
       "  <tbody>\n",
       "    <tr>\n",
       "      <th>count</th>\n",
       "      <td>60.00</td>\n",
       "      <td>60.00</td>\n",
       "      <td>60.00</td>\n",
       "      <td>60.00</td>\n",
       "      <td>60.00</td>\n",
       "      <td>60.00</td>\n",
       "      <td>60.00</td>\n",
       "      <td>60.00</td>\n",
       "      <td>60.00</td>\n",
       "      <td>60.00</td>\n",
       "      <td>60.00</td>\n",
       "      <td>60.00</td>\n",
       "      <td>60.00</td>\n",
       "      <td>60.00</td>\n",
       "    </tr>\n",
       "    <tr>\n",
       "      <th>mean</th>\n",
       "      <td>24.38</td>\n",
       "      <td>916.45</td>\n",
       "      <td>810.10</td>\n",
       "      <td>309.03</td>\n",
       "      <td>192.08</td>\n",
       "      <td>308.82</td>\n",
       "      <td>1159.35</td>\n",
       "      <td>1159.23</td>\n",
       "      <td>1957.95</td>\n",
       "      <td>7.05</td>\n",
       "      <td>31.36</td>\n",
       "      <td>23.62</td>\n",
       "      <td>44.99</td>\n",
       "      <td>0.80</td>\n",
       "    </tr>\n",
       "    <tr>\n",
       "      <th>std</th>\n",
       "      <td>26.88</td>\n",
       "      <td>1138.34</td>\n",
       "      <td>877.47</td>\n",
       "      <td>408.48</td>\n",
       "      <td>201.99</td>\n",
       "      <td>294.51</td>\n",
       "      <td>1512.06</td>\n",
       "      <td>1163.95</td>\n",
       "      <td>26.65</td>\n",
       "      <td>5.32</td>\n",
       "      <td>7.83</td>\n",
       "      <td>4.46</td>\n",
       "      <td>8.40</td>\n",
       "      <td>0.27</td>\n",
       "    </tr>\n",
       "    <tr>\n",
       "      <th>min</th>\n",
       "      <td>1.00</td>\n",
       "      <td>14.00</td>\n",
       "      <td>30.00</td>\n",
       "      <td>5.00</td>\n",
       "      <td>4.00</td>\n",
       "      <td>15.00</td>\n",
       "      <td>34.00</td>\n",
       "      <td>55.00</td>\n",
       "      <td>1929.00</td>\n",
       "      <td>1.00</td>\n",
       "      <td>16.67</td>\n",
       "      <td>11.11</td>\n",
       "      <td>20.38</td>\n",
       "      <td>0.38</td>\n",
       "    </tr>\n",
       "    <tr>\n",
       "      <th>25%</th>\n",
       "      <td>4.00</td>\n",
       "      <td>104.25</td>\n",
       "      <td>115.50</td>\n",
       "      <td>34.75</td>\n",
       "      <td>26.25</td>\n",
       "      <td>62.75</td>\n",
       "      <td>154.50</td>\n",
       "      <td>236.00</td>\n",
       "      <td>1934.75</td>\n",
       "      <td>3.00</td>\n",
       "      <td>27.61</td>\n",
       "      <td>22.33</td>\n",
       "      <td>41.14</td>\n",
       "      <td>0.66</td>\n",
       "    </tr>\n",
       "    <tr>\n",
       "      <th>50%</th>\n",
       "      <td>12.00</td>\n",
       "      <td>395.50</td>\n",
       "      <td>424.50</td>\n",
       "      <td>124.00</td>\n",
       "      <td>98.50</td>\n",
       "      <td>197.50</td>\n",
       "      <td>444.00</td>\n",
       "      <td>632.50</td>\n",
       "      <td>1950.50</td>\n",
       "      <td>6.00</td>\n",
       "      <td>30.49</td>\n",
       "      <td>24.37</td>\n",
       "      <td>45.73</td>\n",
       "      <td>0.74</td>\n",
       "    </tr>\n",
       "    <tr>\n",
       "      <th>75%</th>\n",
       "      <td>39.00</td>\n",
       "      <td>1360.50</td>\n",
       "      <td>1345.50</td>\n",
       "      <td>432.75</td>\n",
       "      <td>331.50</td>\n",
       "      <td>563.50</td>\n",
       "      <td>1669.75</td>\n",
       "      <td>2001.25</td>\n",
       "      <td>1977.25</td>\n",
       "      <td>10.00</td>\n",
       "      <td>33.54</td>\n",
       "      <td>26.22</td>\n",
       "      <td>48.54</td>\n",
       "      <td>0.83</td>\n",
       "    </tr>\n",
       "    <tr>\n",
       "      <th>max</th>\n",
       "      <td>86.00</td>\n",
       "      <td>4385.00</td>\n",
       "      <td>2762.00</td>\n",
       "      <td>1647.00</td>\n",
       "      <td>633.00</td>\n",
       "      <td>1070.00</td>\n",
       "      <td>5947.00</td>\n",
       "      <td>3889.00</td>\n",
       "      <td>2016.00</td>\n",
       "      <td>20.00</td>\n",
       "      <td>59.63</td>\n",
       "      <td>38.60</td>\n",
       "      <td>70.00</td>\n",
       "      <td>1.89</td>\n",
       "    </tr>\n",
       "  </tbody>\n",
       "</table>\n",
       "</div>"
      ],
      "text/plain": [
       "       Tournament    Score  PlayedGames  WonGames  DrawnGames  LostGames  \\\n",
       "count       60.00    60.00        60.00     60.00       60.00      60.00   \n",
       "mean        24.38   916.45       810.10    309.03      192.08     308.82   \n",
       "std         26.88  1138.34       877.47    408.48      201.99     294.51   \n",
       "min          1.00    14.00        30.00      5.00        4.00      15.00   \n",
       "25%          4.00   104.25       115.50     34.75       26.25      62.75   \n",
       "50%         12.00   395.50       424.50    124.00       98.50     197.50   \n",
       "75%         39.00  1360.50      1345.50    432.75      331.50     563.50   \n",
       "max         86.00  4385.00      2762.00   1647.00      633.00    1070.00   \n",
       "\n",
       "       BasketScored  BasketGiven  TeamLaunch  HighestPositionHeld  \\\n",
       "count         60.00        60.00       60.00                60.00   \n",
       "mean        1159.35      1159.23     1957.95                 7.05   \n",
       "std         1512.06      1163.95       26.65                 5.32   \n",
       "min           34.00        55.00     1929.00                 1.00   \n",
       "25%          154.50       236.00     1934.75                 3.00   \n",
       "50%          444.00       632.50     1950.50                 6.00   \n",
       "75%         1669.75      2001.25     1977.25                10.00   \n",
       "max         5947.00      3889.00     2016.00                20.00   \n",
       "\n",
       "       Win_percent  Draw_percent  Loss_percent  Ratio_scored_given  \n",
       "count        60.00         60.00         60.00               60.00  \n",
       "mean         31.36         23.62         44.99                0.80  \n",
       "std           7.83          4.46          8.40                0.27  \n",
       "min          16.67         11.11         20.38                0.38  \n",
       "25%          27.61         22.33         41.14                0.66  \n",
       "50%          30.49         24.37         45.73                0.74  \n",
       "75%          33.54         26.22         48.54                0.83  \n",
       "max          59.63         38.60         70.00                1.89  "
      ]
     },
     "execution_count": 88,
     "metadata": {},
     "output_type": "execute_result"
    }
   ],
   "source": [
    "data.describe().round(2)"
   ]
  },
  {
   "cell_type": "code",
   "execution_count": 89,
   "id": "757609e7",
   "metadata": {},
   "outputs": [
    {
     "name": "stdout",
     "output_type": "stream",
     "text": [
      "<class 'pandas.core.frame.DataFrame'>\n",
      "RangeIndex: 60 entries, 0 to 59\n",
      "Data columns (total 16 columns):\n",
      " #   Column               Non-Null Count  Dtype  \n",
      "---  ------               --------------  -----  \n",
      " 0   Team                 60 non-null     object \n",
      " 1   Tournament           60 non-null     int64  \n",
      " 2   Score                60 non-null     float64\n",
      " 3   PlayedGames          60 non-null     float64\n",
      " 4   WonGames             60 non-null     float64\n",
      " 5   DrawnGames           60 non-null     float64\n",
      " 6   LostGames            60 non-null     float64\n",
      " 7   BasketScored         60 non-null     float64\n",
      " 8   BasketGiven          60 non-null     float64\n",
      " 9   TeamLaunch           60 non-null     int64  \n",
      " 10  HighestPositionHeld  60 non-null     int64  \n",
      " 11  Win_percent          60 non-null     float64\n",
      " 12  Draw_percent         60 non-null     float64\n",
      " 13  Loss_percent         60 non-null     float64\n",
      " 14  Ratio_scored_given   60 non-null     float64\n",
      " 15  Team_groups          60 non-null     object \n",
      "dtypes: float64(11), int64(3), object(2)\n",
      "memory usage: 7.6+ KB\n"
     ]
    }
   ],
   "source": [
    "data.info()"
   ]
  },
  {
   "cell_type": "code",
   "execution_count": 90,
   "id": "d8e8586c",
   "metadata": {},
   "outputs": [
    {
     "data": {
      "text/plain": [
       "<AxesSubplot:xlabel='Team_groups', ylabel='Loss_percent'>"
      ]
     },
     "execution_count": 90,
     "metadata": {},
     "output_type": "execute_result"
    },
    {
     "data": {
      "image/png": "[encoded data removed]",
      "text/plain": [
       "<Figure size 1440x360 with 1 Axes>"
      ]
     },
     "metadata": {
      "needs_background": "light"
     },
     "output_type": "display_data"
    }
   ],
   "source": [
    "fig,ax=plt.subplots(figsize=(20,5))\n",
    "sns.barplot(data=data,x='Team_groups',y='Loss_percent',ax=ax)"
   ]
  },
  {
   "cell_type": "code",
   "execution_count": 91,
   "id": "d7f9348c",
   "metadata": {},
   "outputs": [
    {
     "data": {
      "text/plain": [
       "1929    10\n",
       "1941     3\n",
       "1963     2\n",
       "1977     2\n",
       "1935     2\n",
       "1951     2\n",
       "1939     2\n",
       "1960     1\n",
       "1987     1\n",
       "1934     1\n",
       "1932     1\n",
       "1948     1\n",
       "1944     1\n",
       "1949     1\n",
       "1933     1\n",
       "2004     1\n",
       "1998     1\n",
       "1959     1\n",
       "1943     1\n",
       "1961     1\n",
       "1940     1\n",
       "1930     1\n",
       "1974     1\n",
       "1931     1\n",
       "1991     1\n",
       "1979     1\n",
       "1962     1\n",
       "2009     1\n",
       "2016     1\n",
       "1947     1\n",
       "1994     1\n",
       "1978     1\n",
       "1971     1\n",
       "1956     1\n",
       "1999     1\n",
       "2014     1\n",
       "1990     1\n",
       "1996     1\n",
       "1950     1\n",
       "1995     1\n",
       "2007     1\n",
       "1945     1\n",
       "1953     1\n",
       "1955     1\n",
       "Name: TeamLaunch, dtype: int64"
      ]
     },
     "execution_count": 91,
     "metadata": {},
     "output_type": "execute_result"
    }
   ],
   "source": [
    "data['TeamLaunch'].value_counts().sort_values(ascending=False)"
   ]
  },
  {
   "cell_type": "markdown",
   "id": "cee6df00",
   "metadata": {},
   "source": [
    "The most number of teams were launched in the year 1929."
   ]
  },
  {
   "cell_type": "code",
   "execution_count": 92,
   "id": "808b2310",
   "metadata": {},
   "outputs": [
    {
     "data": {
      "text/plain": [
       "0     1929\n",
       "1     1929\n",
       "2     1929\n",
       "4     1929\n",
       "6     1929\n",
       "7     1929\n",
       "13    1929\n",
       "3     1931\n",
       "9     1932\n",
       "5     1934\n",
       "8     1939\n",
       "11    1939\n",
       "10    1941\n",
       "14    1944\n",
       "12    1948\n",
       "Name: TeamLaunch, dtype: int64"
      ]
     },
     "execution_count": 92,
     "metadata": {},
     "output_type": "execute_result"
    }
   ],
   "source": [
    "year=data.groupby('Team_groups')\n",
    "year.get_group('A')['TeamLaunch'].sort_values()"
   ]
  },
  {
   "cell_type": "markdown",
   "id": "83deab6d",
   "metadata": {},
   "source": [
    "The best performing teams were launched before 1949."
   ]
  },
  {
   "cell_type": "code",
   "execution_count": 93,
   "id": "478417d2",
   "metadata": {},
   "outputs": [
    {
     "data": {
      "text/plain": [
       "<seaborn.axisgrid.PairGrid at 0x2315debfb50>"
      ]
     },
     "execution_count": 93,
     "metadata": {},
     "output_type": "execute_result"
    },
    {
     "data": {
      "image/png": "[encoded data removed]",
      "text/plain": [
       "<Figure size 1440x1440 with 72 Axes>"
      ]
     },
     "metadata": {
      "needs_background": "light"
     },
     "output_type": "display_data"
    }
   ],
   "source": [
    "sns.pairplot(data=data,vars=['Score','PlayedGames','Win_percent','Draw_percent','Loss_percent','BasketGiven','BasketScored','HighestPositionHeld'])"
   ]
  },
  {
   "cell_type": "markdown",
   "id": "7105951f",
   "metadata": {},
   "source": [
    "The score and number of games played are directly proportional to each other. The highest position held is inversely proportional to number of games played."
   ]
  },
  {
   "cell_type": "code",
   "execution_count": 94,
   "id": "b4966de1",
   "metadata": {},
   "outputs": [
    {
     "data": {
      "text/plain": [
       "<AxesSubplot:xlabel='Team_groups', ylabel='Win_percent'>"
      ]
     },
     "execution_count": 94,
     "metadata": {},
     "output_type": "execute_result"
    },
    {
     "data": {
      "image/png": "[encoded data removed]",
      "text/plain": [
       "<Figure size 1440x360 with 1 Axes>"
      ]
     },
     "metadata": {
      "needs_background": "light"
     },
     "output_type": "display_data"
    }
   ],
   "source": [
    "fig,ax=plt.subplots(figsize=(20,5))\n",
    "sns.barplot(data=data,x='Team_groups',y='Win_percent',ax=ax)"
   ]
  },
  {
   "cell_type": "code",
   "execution_count": 95,
   "id": "3eef7a46",
   "metadata": {},
   "outputs": [
    {
     "data": {
      "text/plain": [
       "<AxesSubplot:xlabel='Team_groups', ylabel='Draw_percent'>"
      ]
     },
     "execution_count": 95,
     "metadata": {},
     "output_type": "execute_result"
    },
    {
     "data": {
      "image/png": "[encoded data removed]",
      "text/plain": [
       "<Figure size 1440x360 with 1 Axes>"
      ]
     },
     "metadata": {
      "needs_background": "light"
     },
     "output_type": "display_data"
    }
   ],
   "source": [
    "fig,ax=plt.subplots(figsize=(20,5))\n",
    "sns.barplot(data=data,x='Team_groups',y='Draw_percent',ax=ax)"
   ]
  },
  {
   "cell_type": "markdown",
   "id": "2b7e070e",
   "metadata": {},
   "source": [
    "The percentage of games drawn was almost the same across the groups."
   ]
  },
  {
   "cell_type": "code",
   "execution_count": 96,
   "id": "10cf9438",
   "metadata": {},
   "outputs": [
    {
     "data": {
      "text/plain": [
       "<AxesSubplot:xlabel='Team_groups', ylabel='Score'>"
      ]
     },
     "execution_count": 96,
     "metadata": {},
     "output_type": "execute_result"
    },
    {
     "data": {
      "image/png": "[encoded data removed]",
      "text/plain": [
       "<Figure size 1440x360 with 1 Axes>"
      ]
     },
     "metadata": {
      "needs_background": "light"
     },
     "output_type": "display_data"
    }
   ],
   "source": [
    "fig,ax=plt.subplots(figsize=(20,5))\n",
    "sns.barplot(data=data,x='Team_groups',y='Score',ax=ax)"
   ]
  },
  {
   "cell_type": "markdown",
   "id": "8bfa3dd9",
   "metadata": {},
   "source": [
    "This shows that A group is a much better performer when compared to the other three groups."
   ]
  },
  {
   "cell_type": "code",
   "execution_count": 97,
   "id": "8008e079",
   "metadata": {},
   "outputs": [
    {
     "data": {
      "text/plain": [
       "<AxesSubplot:xlabel='Team_groups', ylabel='BasketGiven'>"
      ]
     },
     "execution_count": 97,
     "metadata": {},
     "output_type": "execute_result"
    },
    {
     "data": {
      "image/png": "[encoded data removed]",
      "text/plain": [
       "<Figure size 1440x360 with 1 Axes>"
      ]
     },
     "metadata": {
      "needs_background": "light"
     },
     "output_type": "display_data"
    }
   ],
   "source": [
    "fig,ax=plt.subplots(figsize=(20,5))\n",
    "sns.barplot(data=data,x='Team_groups',y='BasketGiven',ax=ax)"
   ]
  },
  {
   "cell_type": "code",
   "execution_count": 98,
   "id": "3f57109b",
   "metadata": {},
   "outputs": [
    {
     "data": {
      "text/plain": [
       "<AxesSubplot:xlabel='Team_groups', ylabel='BasketScored'>"
      ]
     },
     "execution_count": 98,
     "metadata": {},
     "output_type": "execute_result"
    },
    {
     "data": {
      "image/png": "[encoded data removed]",
      "text/plain": [
       "<Figure size 1440x360 with 1 Axes>"
      ]
     },
     "metadata": {
      "needs_background": "light"
     },
     "output_type": "display_data"
    }
   ],
   "source": [
    "fig,ax=plt.subplots(figsize=(20,5))\n",
    "sns.barplot(data=data,x='Team_groups',y='BasketScored',ax=ax)"
   ]
  },
  {
   "cell_type": "code",
   "execution_count": 99,
   "id": "f9476c13",
   "metadata": {},
   "outputs": [
    {
     "data": {
      "text/plain": [
       "<AxesSubplot:xlabel='Team_groups', ylabel='HighestPositionHeld'>"
      ]
     },
     "execution_count": 99,
     "metadata": {},
     "output_type": "execute_result"
    },
    {
     "data": {
      "image/png": "[encoded data removed]",
      "text/plain": [
       "<Figure size 1440x360 with 1 Axes>"
      ]
     },
     "metadata": {
      "needs_background": "light"
     },
     "output_type": "display_data"
    }
   ],
   "source": [
    "fig,ax=plt.subplots(figsize=(20,5))\n",
    "sns.barplot(data=data,x='Team_groups',y='HighestPositionHeld',ax=ax)"
   ]
  },
  {
   "cell_type": "markdown",
   "id": "378f7393",
   "metadata": {},
   "source": [
    "This again shows that A group is the best performer and D group is the poorest performer."
   ]
  },
  {
   "cell_type": "code",
   "execution_count": 100,
   "id": "35b907e7",
   "metadata": {},
   "outputs": [
    {
     "data": {
      "image/png": "[encoded data removed]",
      "text/plain": [
       "<Figure size 720x720 with 2 Axes>"
      ]
     },
     "metadata": {
      "needs_background": "light"
     },
     "output_type": "display_data"
    }
   ],
   "source": [
    "fig,ax = plt.subplots(figsize=(10, 10))   \n",
    "data1=data.drop(['WonGames','DrawnGames','LostGames'],axis=1)\n",
    "sns.heatmap(data1.corr(), ax=ax, annot=True, linewidths=0.05, fmt= '.2f',cmap=\"magma\")\n",
    "plt.show()"
   ]
  },
  {
   "cell_type": "code",
   "execution_count": 101,
   "id": "4b12b18f",
   "metadata": {},
   "outputs": [
    {
     "name": "stdout",
     "output_type": "stream",
     "text": [
      "4\n"
     ]
    },
    {
     "data": {
      "image/png": "[encoded data removed]",
      "text/plain": [
       "<Figure size 720x360 with 1 Axes>"
      ]
     },
     "metadata": {
      "needs_background": "light"
     },
     "output_type": "display_data"
    }
   ],
   "source": [
    "print(data['Team_groups'].nunique())\n",
    "fig,axis=plt.subplots(figsize=(10,5))\n",
    "sns.scatterplot(y=data['Score'],x=data['Ratio_scored_given'],hue=data['Team_groups'],ax=axis)\n",
    "plt.show()"
   ]
  },
  {
   "cell_type": "code",
   "execution_count": 102,
   "id": "6449e321",
   "metadata": {},
   "outputs": [
    {
     "data": {
      "image/png": "[encoded data removed]",
      "text/plain": [
       "<Figure size 720x360 with 1 Axes>"
      ]
     },
     "metadata": {
      "needs_background": "light"
     },
     "output_type": "display_data"
    }
   ],
   "source": [
    "fig,axis=plt.subplots(figsize=(10,5))\n",
    "sns.scatterplot(y=data['Score'],x=data['Tournament'],hue=data['Team_groups'],ax=axis)\n",
    "plt.show()"
   ]
  },
  {
   "cell_type": "code",
   "execution_count": 103,
   "id": "2ea10c32",
   "metadata": {},
   "outputs": [
    {
     "data": {
      "image/png": "[encoded data removed]",
      "text/plain": [
       "<Figure size 720x360 with 1 Axes>"
      ]
     },
     "metadata": {
      "needs_background": "light"
     },
     "output_type": "display_data"
    }
   ],
   "source": [
    "fig,axis=plt.subplots(figsize=(10,5))\n",
    "sns.scatterplot(y=data['Score'],x=data['PlayedGames'],hue=data['Team_groups'],ax=axis)\n",
    "plt.show()"
   ]
  },
  {
   "cell_type": "code",
   "execution_count": 104,
   "id": "88f31272",
   "metadata": {},
   "outputs": [
    {
     "name": "stdout",
     "output_type": "stream",
     "text": [
      "65.26666666666667\n",
      "22.333333333333332\n",
      "7.666666666666667\n",
      "2.2666666666666666\n"
     ]
    }
   ],
   "source": [
    "print(data.groupby(['Team_groups']).get_group('A')['Tournament'].mean())\n",
    "print(data.groupby(['Team_groups']).get_group('B')['Tournament'].mean())\n",
    "print(data.groupby(['Team_groups']).get_group('C')['Tournament'].mean())\n",
    "print(data.groupby(['Team_groups']).get_group('D')['Tournament'].mean())"
   ]
  },
  {
   "cell_type": "code",
   "execution_count": 105,
   "id": "48dc77dc",
   "metadata": {},
   "outputs": [
    {
     "name": "stdout",
     "output_type": "stream",
     "text": [
      "2146.266666666667\n",
      "767.5333333333333\n",
      "258.8666666666667\n",
      "67.73333333333333\n"
     ]
    }
   ],
   "source": [
    "print(data.groupby(['Team_groups']).get_group('A')['PlayedGames'].mean())\n",
    "print(data.groupby(['Team_groups']).get_group('B')['PlayedGames'].mean())\n",
    "print(data.groupby(['Team_groups']).get_group('C')['PlayedGames'].mean())\n",
    "print(data.groupby(['Team_groups']).get_group('D')['PlayedGames'].mean())"
   ]
  },
  {
   "cell_type": "markdown",
   "id": "3da681b3",
   "metadata": {},
   "source": [
    "## Performance Report\n",
    "\n",
    "The teams performing the best were those which were launched before the year 1949. These were the teams listed in the first ten rows of the dataset(Team 1 to Team 15). These teams were grouped as A group in the analysis. These had won 40% and lost around 35% of thier games. The best performing group (A) have played a significantly higher number of tournaments compared to the other groups.\n",
    "\n",
    "The teams whose performance can be ranked as second best were grouped together as B group. Similarly, the teams whose performance can be ranked as third best and fourth best were grouped together as C and D respectively. On analyzing the data it can be concluded that the performance of the teams was better if the number of games they played was higher.\n",
    "\n",
    "So, the company X can be suggested to approach the older teams in the group A in order to make winning deals.\n"
   ]
  },
  {
   "cell_type": "markdown",
   "id": "10f98313",
   "metadata": {},
   "source": [
    "## Suggestions to the association management\n",
    "\n",
    "#### Quality:\n",
    "The data quality can be improved by making sure the collection of data is accurate and complete. For example, there were two columns with more than 50% of missing values which means they cannot be used in the analysis and there was an error related to the number of games played for one team.\n",
    "\n",
    "#### Quantity:\n",
    "The quantity of data needs to be increased because it leads to better understanding of outliers.\n",
    "\n",
    "#### Variety:\n",
    "It will be better to perform more analysis if there is sufficient variety in the data. Therefore, the data must be collected for more attributes of the teams.\n",
    "\n",
    "#### Velocity:\n",
    "It is a good practice to collect the data at fixed intervals of time because it helps in observing the trends. These trends provide valuable information to perform predictive analytics and to make appropriate decisions. It is suggested that the teams date are regularly updated. \n",
    "\n",
    "#### Veracity:\n",
    "The data can be more trustworthy if the data is collected wihtout any manipulations. The team names were not their original names in the dataset which may be due to some reason but it is not advisable to use manipulated data."
   ]
  },
  {
   "cell_type": "markdown",
   "id": "bd70d4ea",
   "metadata": {},
   "source": [
    "# Part C"
   ]
  },
  {
   "cell_type": "code",
   "execution_count": 106,
   "id": "19392abf",
   "metadata": {},
   "outputs": [],
   "source": [
    "df_company=pd.read_csv('Company.csv')"
   ]
  },
  {
   "cell_type": "code",
   "execution_count": 107,
   "id": "3c65cfd5",
   "metadata": {},
   "outputs": [
    {
     "name": "stdout",
     "output_type": "stream",
     "text": [
      "<class 'pandas.core.frame.DataFrame'>\n",
      "RangeIndex: 662 entries, 0 to 661\n",
      "Data columns (total 6 columns):\n",
      " #   Column          Non-Null Count  Dtype \n",
      "---  ------          --------------  ----- \n",
      " 0   Startup         662 non-null    object\n",
      " 1   Product         656 non-null    object\n",
      " 2   Funding         448 non-null    object\n",
      " 3   Event           662 non-null    object\n",
      " 4   Result          662 non-null    object\n",
      " 5   OperatingState  662 non-null    object\n",
      "dtypes: object(6)\n",
      "memory usage: 31.2+ KB\n"
     ]
    }
   ],
   "source": [
    "df_company.info()"
   ]
  },
  {
   "cell_type": "code",
   "execution_count": 108,
   "id": "700e6b70",
   "metadata": {},
   "outputs": [
    {
     "data": {
      "text/plain": [
       "Startup           False\n",
       "Product            True\n",
       "Funding            True\n",
       "Event             False\n",
       "Result            False\n",
       "OperatingState    False\n",
       "dtype: bool"
      ]
     },
     "execution_count": 108,
     "metadata": {},
     "output_type": "execute_result"
    }
   ],
   "source": [
    "df_company.isnull().any()"
   ]
  },
  {
   "cell_type": "code",
   "execution_count": 109,
   "id": "5f0c2c2a",
   "metadata": {},
   "outputs": [
    {
     "data": {
      "text/plain": [
       "Startup           0\n",
       "Product           0\n",
       "Funding           0\n",
       "Event             0\n",
       "Result            0\n",
       "OperatingState    0\n",
       "dtype: int64"
      ]
     },
     "execution_count": 109,
     "metadata": {},
     "output_type": "execute_result"
    }
   ],
   "source": [
    "new_df=df_company.dropna()\n",
    "new_df.isnull().sum()"
   ]
  },
  {
   "cell_type": "code",
   "execution_count": 110,
   "id": "6deca29b",
   "metadata": {},
   "outputs": [
    {
     "name": "stderr",
     "output_type": "stream",
     "text": [
      "C:\\Users\\vjanu\\anaconda3\\lib\\site-packages\\pandas\\core\\indexing.py:1667: SettingWithCopyWarning: \n",
      "A value is trying to be set on a copy of a slice from a DataFrame.\n",
      "Try using .loc[row_indexer,col_indexer] = value instead\n",
      "\n",
      "See the caveats in the documentation: https://pandas.pydata.org/pandas-docs/stable/user_guide/indexing.html#returning-a-view-versus-a-copy\n",
      "  self.obj[key] = value\n"
     ]
    }
   ],
   "source": [
    "new_df.loc[:,'Funds_in_million']=new_df['Funding'].apply(lambda x: float(x[1:-1])/1000 if x[-1]=='K' else (float(x[1:-1])*1000 if x[-1]=='B' else float(x[1:-1])))"
   ]
  },
  {
   "cell_type": "code",
   "execution_count": 111,
   "id": "14506d3a",
   "metadata": {},
   "outputs": [
    {
     "data": {
      "text/html": [
       "<div>\n",
       "<style scoped>\n",
       "    .dataframe tbody tr th:only-of-type {\n",
       "        vertical-align: middle;\n",
       "    }\n",
       "\n",
       "    .dataframe tbody tr th {\n",
       "        vertical-align: top;\n",
       "    }\n",
       "\n",
       "    .dataframe thead th {\n",
       "        text-align: right;\n",
       "    }\n",
       "</style>\n",
       "<table border=\"1\" class=\"dataframe\">\n",
       "  <thead>\n",
       "    <tr style=\"text-align: right;\">\n",
       "      <th></th>\n",
       "      <th>Startup</th>\n",
       "      <th>Product</th>\n",
       "      <th>Funding</th>\n",
       "      <th>Event</th>\n",
       "      <th>Result</th>\n",
       "      <th>OperatingState</th>\n",
       "      <th>Funds_in_million</th>\n",
       "    </tr>\n",
       "  </thead>\n",
       "  <tbody>\n",
       "    <tr>\n",
       "      <th>1</th>\n",
       "      <td>3DLT</td>\n",
       "      <td>3dlt.com</td>\n",
       "      <td>$630K</td>\n",
       "      <td>Disrupt NYC 2013</td>\n",
       "      <td>Contestant</td>\n",
       "      <td>Closed</td>\n",
       "      <td>0.63</td>\n",
       "    </tr>\n",
       "    <tr>\n",
       "      <th>3</th>\n",
       "      <td>3Dprintler</td>\n",
       "      <td>3dprintler.com</td>\n",
       "      <td>$1M</td>\n",
       "      <td>Disrupt NY 2016</td>\n",
       "      <td>Audience choice</td>\n",
       "      <td>Operating</td>\n",
       "      <td>1.00</td>\n",
       "    </tr>\n",
       "    <tr>\n",
       "      <th>5</th>\n",
       "      <td>5to1</td>\n",
       "      <td>5to1.com</td>\n",
       "      <td>$19.3M</td>\n",
       "      <td>TC50 2009</td>\n",
       "      <td>Contestant</td>\n",
       "      <td>Acquired</td>\n",
       "      <td>19.30</td>\n",
       "    </tr>\n",
       "    <tr>\n",
       "      <th>6</th>\n",
       "      <td>8 Securities</td>\n",
       "      <td>8securities.com</td>\n",
       "      <td>$29M</td>\n",
       "      <td>Disrupt Beijing 2011</td>\n",
       "      <td>Finalist</td>\n",
       "      <td>Operating</td>\n",
       "      <td>29.00</td>\n",
       "    </tr>\n",
       "    <tr>\n",
       "      <th>10</th>\n",
       "      <td>AdhereTech</td>\n",
       "      <td>adheretech.com</td>\n",
       "      <td>$1.8M</td>\n",
       "      <td>Hardware Battlefield 2014</td>\n",
       "      <td>Contestant</td>\n",
       "      <td>Operating</td>\n",
       "      <td>1.80</td>\n",
       "    </tr>\n",
       "  </tbody>\n",
       "</table>\n",
       "</div>"
      ],
      "text/plain": [
       "         Startup          Product Funding                      Event  \\\n",
       "1           3DLT         3dlt.com   $630K           Disrupt NYC 2013   \n",
       "3     3Dprintler   3dprintler.com     $1M            Disrupt NY 2016   \n",
       "5           5to1         5to1.com  $19.3M                  TC50 2009   \n",
       "6   8 Securities  8securities.com    $29M       Disrupt Beijing 2011   \n",
       "10    AdhereTech   adheretech.com   $1.8M  Hardware Battlefield 2014   \n",
       "\n",
       "             Result OperatingState  Funds_in_million  \n",
       "1        Contestant         Closed              0.63  \n",
       "3   Audience choice      Operating              1.00  \n",
       "5        Contestant       Acquired             19.30  \n",
       "6          Finalist      Operating             29.00  \n",
       "10       Contestant      Operating              1.80  "
      ]
     },
     "execution_count": 111,
     "metadata": {},
     "output_type": "execute_result"
    }
   ],
   "source": [
    "new_df.head(5)"
   ]
  },
  {
   "cell_type": "code",
   "execution_count": 112,
   "id": "86d55dda",
   "metadata": {},
   "outputs": [
    {
     "data": {
      "image/png": "[encoded data removed]",
      "text/plain": [
       "<Figure size 576x288 with 1 Axes>"
      ]
     },
     "metadata": {
      "needs_background": "light"
     },
     "output_type": "display_data"
    }
   ],
   "source": [
    "fig,ax=plt.subplots(figsize=[8,4])\n",
    "plt.boxplot(new_df.Funds_in_million,showfliers=False,vert=False)\n",
    "plt.show()"
   ]
  },
  {
   "cell_type": "code",
   "execution_count": 113,
   "id": "b3cc82f7",
   "metadata": {},
   "outputs": [
    {
     "name": "stdout",
     "output_type": "stream",
     "text": [
      "8.72975\n"
     ]
    }
   ],
   "source": [
    "q1=new_df['Funds_in_million'].quantile(0.25)\n",
    "q3=new_df['Funds_in_million'].quantile(0.75)\n",
    "IQR=q3-q1\n",
    "print(IQR)"
   ]
  },
  {
   "cell_type": "code",
   "execution_count": 114,
   "id": "f987eacc",
   "metadata": {},
   "outputs": [
    {
     "name": "stdout",
     "output_type": "stream",
     "text": [
      "60\n"
     ]
    }
   ],
   "source": [
    "array_outliers=np.array(np.where((new_df['Funds_in_million'] < (q1 - 1.5 * IQR)) | (new_df['Funds_in_million'] > (q3 + 1.5 * IQR))))\n",
    "array_upper=np.array(np.where (new_df['Funds_in_million']>(q3+1.5*IQR)))\n",
    "print(array_upper.size)"
   ]
  },
  {
   "cell_type": "markdown",
   "id": "aeaf084f",
   "metadata": {},
   "source": [
    "The number of outliers above the upper fence for funds raised is 60."
   ]
  },
  {
   "cell_type": "code",
   "execution_count": 115,
   "id": "bccea421",
   "metadata": {},
   "outputs": [
    {
     "data": {
      "image/png": "[encoded data removed]",
      "text/plain": [
       "<Figure size 432x288 with 1 Axes>"
      ]
     },
     "metadata": {
      "needs_background": "light"
     },
     "output_type": "display_data"
    },
    {
     "name": "stdout",
     "output_type": "stream",
     "text": [
      "Operating    319\n",
      "Acquired      66\n",
      "Closed        57\n",
      "Ipo            4\n",
      "Name: OperatingState, dtype: int64\n"
     ]
    }
   ],
   "source": [
    "sns.countplot(data=new_df,x='OperatingState')\n",
    "plt.show()\n",
    "frequency=new_df['OperatingState'].value_counts()\n",
    "print(frequency)"
   ]
  },
  {
   "cell_type": "code",
   "execution_count": 116,
   "id": "111455e6",
   "metadata": {},
   "outputs": [
    {
     "data": {
      "text/plain": [
       "OperatingState\n",
       "Acquired      13.21\n",
       "Closed         3.26\n",
       "Ipo          137.77\n",
       "Operating     19.06\n",
       "Name: Funds_in_million, dtype: float64"
      ]
     },
     "execution_count": 116,
     "metadata": {},
     "output_type": "execute_result"
    }
   ],
   "source": [
    "new_df.groupby('OperatingState')['Funds_in_million'].mean().round(2)"
   ]
  },
  {
   "cell_type": "markdown",
   "id": "b39f9d13",
   "metadata": {},
   "source": [
    "There is a significant difference in the mean funding raised between the companies which are closed and operating."
   ]
  },
  {
   "cell_type": "markdown",
   "id": "8608a696",
   "metadata": {},
   "source": [
    "Null hypothesis: There is no statistically significant difference between the means of funds raised by the companies which are closed and operating.\n",
    "\n",
    "Alternative Hypothesis: There is a statistically significant difference between the means of funds raised by the companies which are closed and operating."
   ]
  },
  {
   "cell_type": "code",
   "execution_count": 117,
   "id": "4a23db92",
   "metadata": {},
   "outputs": [],
   "source": [
    "x=new_df.groupby('OperatingState')\n",
    "group1=np.array(x.get_group('Closed')['Funds_in_million'])\n",
    "group2=np.array(x.get_group('Operating')['Funds_in_million'])"
   ]
  },
  {
   "cell_type": "code",
   "execution_count": 118,
   "id": "e5815956",
   "metadata": {},
   "outputs": [
    {
     "name": "stdout",
     "output_type": "stream",
     "text": [
      "[ 0.63    1.      0.9292  1.9     0.6     0.19   20.8     8.1     0.325\n",
      "  5.5     0.35    0.75    0.475   6.7    12.      0.925   4.      0.16\n",
      "  0.3     2.4    35.5     0.1     2.3     0.7     1.2     1.      0.1915\n",
      "  0.3     0.15    0.5    10.      3.      0.875   7.3     3.      1.2\n",
      "  1.      0.892   3.5     0.15    3.5     4.1     1.1     0.7     0.2\n",
      "  1.5     0.6     1.8     0.3     0.65    4.2     0.28    0.093  14.5\n",
      "  0.5     0.8    10.    ]\n",
      "[1.000e+00 2.900e+01 1.800e+00 1.000e+00 7.500e-01 1.790e-02 1.160e+01\n",
      " 1.220e+01 4.000e+00 2.400e+01 7.460e-01 7.100e+00 4.500e+00 5.090e+01\n",
      " 8.300e+00 4.000e+00 1.230e+01 2.900e+00 3.200e-01 1.700e+00 2.000e-02\n",
      " 2.050e+02 2.800e+00 1.250e-01 3.500e-01 6.750e-01 6.500e+00 2.000e+00\n",
      " 1.180e-01 4.000e+00 2.050e+01 7.200e+00 2.300e+00 2.120e-01 7.000e+00\n",
      " 8.500e+00 2.000e-02 5.000e+00 6.000e-02 8.800e+00 1.200e-01 2.000e+00\n",
      " 2.300e+00 4.500e+00 2.200e+00 4.960e-01 1.400e+00 1.821e+02 8.480e-01\n",
      " 2.000e+00 1.300e+00 2.000e+00 2.600e+00 4.115e-01 8.100e+00 3.540e+01\n",
      " 3.000e+00 3.800e+01 3.710e+01 6.800e+00 7.200e+01 6.400e+01 9.000e-01\n",
      " 1.000e-01 7.300e+00 1.000e-01 1.300e+00 9.700e+00 5.400e+00 2.000e-02\n",
      " 1.700e+03 1.010e+01 4.850e-01 8.000e+00 3.000e+00 3.000e+00 4.300e+00\n",
      " 1.200e-01 1.000e+01 3.460e+01 1.000e+00 1.630e+01 5.000e+00 6.500e-01\n",
      " 1.540e+01 1.820e+01 3.010e+01 2.600e+01 1.200e+00 7.906e-01 6.000e-02\n",
      " 6.500e+00 8.200e+00 1.700e+00 5.000e-03 1.000e+01 3.105e-01 1.130e+01\n",
      " 3.800e+00 1.250e+01 1.030e+02 1.900e+00 3.346e-01 7.559e-01 3.650e+01\n",
      " 5.000e-01 5.661e-01 2.420e+01 1.070e+01 1.300e+00 2.200e+01 1.200e+01\n",
      " 5.000e+00 4.500e+00 7.200e+00 1.250e+01 1.100e+00 3.200e+00 1.950e-01\n",
      " 1.000e+00 1.630e+01 1.410e+01 1.820e+01 7.450e-01 2.000e+00 4.570e-01\n",
      " 3.550e-01 6.963e-01 1.224e+02 4.216e-01 1.000e+00 1.200e+00 3.800e+00\n",
      " 1.170e+01 1.661e+02 1.600e+00 1.600e+00 4.400e+00 1.300e+00 1.900e+00\n",
      " 1.300e+00 7.170e-01 5.800e+00 4.100e+00 4.210e+01 2.000e+00 1.000e+00\n",
      " 5.000e-02 1.060e+01 2.200e+00 6.510e+01 1.300e+00 2.000e+00 6.700e+00\n",
      " 2.300e+00 2.500e-01 3.500e-01 2.510e+01 6.350e-01 3.200e+00 3.000e-01\n",
      " 1.100e+00 8.000e-01 2.600e+00 4.000e+00 3.300e+00 9.500e+00 3.100e+00\n",
      " 3.500e+00 1.200e+00 5.000e-02 2.750e-01 1.000e-01 1.900e+00 2.200e+00\n",
      " 2.800e+00 1.320e+01 2.750e-01 1.400e+00 1.070e+01 1.000e-01 5.000e-01\n",
      " 1.280e+01 5.300e+00 3.700e+01 3.900e+00 6.514e-01 3.850e+01 2.550e+01\n",
      " 2.400e+01 3.400e+00 7.200e+00 1.200e+00 1.500e+00 5.200e-01 7.950e-02\n",
      " 1.560e-01 5.000e-02 4.800e+00 7.550e-01 5.250e-01 1.850e+01 5.000e-01\n",
      " 2.200e+00 1.500e+00 2.780e+02 5.000e-01 3.600e+00 2.400e+01 1.700e+00\n",
      " 2.800e+00 6.300e+01 2.200e+00 1.200e-01 9.480e-01 2.000e-02 6.000e+00\n",
      " 2.030e-02 1.000e-01 7.650e-01 1.450e-01 7.000e+00 5.000e+00 2.500e+01\n",
      " 1.200e+00 9.560e-01 2.500e-01 3.000e+00 1.500e+00 1.600e+02 8.000e-01\n",
      " 1.400e+00 5.900e-01 2.000e+00 6.000e+00 3.400e+00 1.000e-01 8.554e-01\n",
      " 1.650e-01 1.500e-01 1.620e+01 1.800e+01 3.800e+00 1.400e+00 3.500e-01\n",
      " 6.000e+00 1.500e+00 4.400e-01 6.844e-01 1.298e-01 1.180e-01 3.500e+00\n",
      " 2.300e+00 2.600e+00 4.820e-01 5.000e+00 2.300e+00 1.300e+00 6.000e-01\n",
      " 2.000e+00 2.100e+00 1.200e-01 2.400e+00 5.800e+00 4.000e+01 5.000e-01\n",
      " 4.850e-01 8.630e-01 4.740e+01 3.238e-01 6.000e-01 5.100e+00 2.450e+01\n",
      " 1.000e+00 3.500e-01 1.500e+00 1.900e+00 9.800e+00 1.600e+01 2.500e+01\n",
      " 8.800e-02 5.300e+00 3.000e+00 1.000e+00 3.500e+01 2.000e+00 1.688e+02\n",
      " 2.800e+00 1.600e+00 1.100e+00 8.302e-01 1.000e+00 6.500e+00 2.670e-02\n",
      " 4.500e+00 2.300e+00 5.500e-02 7.100e+00 3.080e+01 2.750e-01 8.570e-02\n",
      " 1.400e+00 2.100e+00 1.000e+00 2.500e+00 2.000e+00 5.000e-02 1.220e+01\n",
      " 1.580e+01 9.000e-01 2.600e+01 2.800e+01 6.210e+01 5.836e+02 8.000e+00\n",
      " 1.000e+00 2.230e+02 3.400e+00 3.150e+01]\n"
     ]
    }
   ],
   "source": [
    "print(group1)\n",
    "print(group2)"
   ]
  },
  {
   "cell_type": "code",
   "execution_count": 119,
   "id": "836d6b3f",
   "metadata": {},
   "outputs": [
    {
     "name": "stdout",
     "output_type": "stream",
     "text": [
      "-1.1382924515740138 0.25572701885629406\n"
     ]
    }
   ],
   "source": [
    "from scipy.stats import ttest_ind\n",
    "t_statistic, p_value = ttest_ind(group1,group2)\n",
    "print(t_statistic, p_value)"
   ]
  },
  {
   "cell_type": "markdown",
   "id": "4c3c7209",
   "metadata": {},
   "source": [
    "Since, the p value is higher than 5% we cannot reject the null hypothesis. Therefore, it implies that there is no statistically significant difference between the means of funds raised by the closed and operating companies. We can be 95% confident that our conclusion is correct."
   ]
  },
  {
   "cell_type": "code",
   "execution_count": 120,
   "id": "4d485d8d",
   "metadata": {},
   "outputs": [],
   "source": [
    "df_copy=new_df.copy()"
   ]
  },
  {
   "cell_type": "code",
   "execution_count": 121,
   "id": "a47f09c4",
   "metadata": {},
   "outputs": [
    {
     "data": {
      "text/html": [
       "<div>\n",
       "<style scoped>\n",
       "    .dataframe tbody tr th:only-of-type {\n",
       "        vertical-align: middle;\n",
       "    }\n",
       "\n",
       "    .dataframe tbody tr th {\n",
       "        vertical-align: top;\n",
       "    }\n",
       "\n",
       "    .dataframe thead th {\n",
       "        text-align: right;\n",
       "    }\n",
       "</style>\n",
       "<table border=\"1\" class=\"dataframe\">\n",
       "  <thead>\n",
       "    <tr style=\"text-align: right;\">\n",
       "      <th></th>\n",
       "      <th>Result</th>\n",
       "    </tr>\n",
       "  </thead>\n",
       "  <tbody>\n",
       "    <tr>\n",
       "      <th>Contestant</th>\n",
       "      <td>312</td>\n",
       "    </tr>\n",
       "    <tr>\n",
       "      <th>Finalist</th>\n",
       "      <td>65</td>\n",
       "    </tr>\n",
       "    <tr>\n",
       "      <th>Audience choice</th>\n",
       "      <td>25</td>\n",
       "    </tr>\n",
       "    <tr>\n",
       "      <th>Winner</th>\n",
       "      <td>25</td>\n",
       "    </tr>\n",
       "    <tr>\n",
       "      <th>Runner up</th>\n",
       "      <td>19</td>\n",
       "    </tr>\n",
       "  </tbody>\n",
       "</table>\n",
       "</div>"
      ],
      "text/plain": [
       "                 Result\n",
       "Contestant          312\n",
       "Finalist             65\n",
       "Audience choice      25\n",
       "Winner               25\n",
       "Runner up            19"
      ]
     },
     "execution_count": 121,
     "metadata": {},
     "output_type": "execute_result"
    }
   ],
   "source": [
    "result_counts=pd.DataFrame(df_copy['Result'].value_counts())\n",
    "result_counts.head(5)"
   ]
  },
  {
   "cell_type": "code",
   "execution_count": 122,
   "id": "3643d602",
   "metadata": {},
   "outputs": [
    {
     "data": {
      "text/html": [
       "<div>\n",
       "<style scoped>\n",
       "    .dataframe tbody tr th:only-of-type {\n",
       "        vertical-align: middle;\n",
       "    }\n",
       "\n",
       "    .dataframe tbody tr th {\n",
       "        vertical-align: top;\n",
       "    }\n",
       "\n",
       "    .dataframe thead th {\n",
       "        text-align: right;\n",
       "    }\n",
       "</style>\n",
       "<table border=\"1\" class=\"dataframe\">\n",
       "  <thead>\n",
       "    <tr style=\"text-align: right;\">\n",
       "      <th></th>\n",
       "      <th>Result</th>\n",
       "    </tr>\n",
       "  </thead>\n",
       "  <tbody>\n",
       "    <tr>\n",
       "      <th>Contestant</th>\n",
       "      <td>214</td>\n",
       "    </tr>\n",
       "    <tr>\n",
       "      <th>Finalist</th>\n",
       "      <td>46</td>\n",
       "    </tr>\n",
       "    <tr>\n",
       "      <th>Audience choice</th>\n",
       "      <td>23</td>\n",
       "    </tr>\n",
       "    <tr>\n",
       "      <th>Winner</th>\n",
       "      <td>18</td>\n",
       "    </tr>\n",
       "    <tr>\n",
       "      <th>Runner up</th>\n",
       "      <td>18</td>\n",
       "    </tr>\n",
       "  </tbody>\n",
       "</table>\n",
       "</div>"
      ],
      "text/plain": [
       "                 Result\n",
       "Contestant          214\n",
       "Finalist             46\n",
       "Audience choice      23\n",
       "Winner               18\n",
       "Runner up            18"
      ]
     },
     "execution_count": 122,
     "metadata": {},
     "output_type": "execute_result"
    }
   ],
   "source": [
    "y=df_copy.groupby('OperatingState')\n",
    "operating=pd.DataFrame(y.get_group('Operating')['Result'].value_counts())\n",
    "operating.head(5)"
   ]
  },
  {
   "cell_type": "code",
   "execution_count": 123,
   "id": "01e2fc66",
   "metadata": {},
   "outputs": [
    {
     "name": "stdout",
     "output_type": "stream",
     "text": [
      "68.59 72.0\n"
     ]
    }
   ],
   "source": [
    "oper_con=214\n",
    "n_con=312\n",
    "oper_win=18\n",
    "n_win=25\n",
    "percent_con=round(214/312*100,2)\n",
    "percent_win=round(18/25*100,2)\n",
    "print(percent_con,percent_win)"
   ]
  },
  {
   "cell_type": "markdown",
   "id": "787cf937",
   "metadata": {},
   "source": [
    "Null Hypothesis: The proportion of operating companies which are contestants is equal to the proportion of operating companies which are winners.\n",
    "\n",
    "Alternative Hypothesis: The proportion of operating companies which are contestants is not equal to the proportion of operating companies which are winners."
   ]
  },
  {
   "cell_type": "code",
   "execution_count": 124,
   "id": "beab0d8e",
   "metadata": {},
   "outputs": [
    {
     "name": "stdout",
     "output_type": "stream",
     "text": [
      "-0.3542506401722957 0.7231510556194248\n"
     ]
    }
   ],
   "source": [
    "from statsmodels.stats.proportion import proportions_ztest\n",
    "stat, pval = proportions_ztest([oper_con,oper_win] , [n_con,n_win])\n",
    "print(stat, pval)"
   ]
  },
  {
   "cell_type": "markdown",
   "id": "c5bc3d66",
   "metadata": {},
   "source": [
    "Since the p value is higher than 5% we cannot reject the null hypothesis. Therefore, it can be concluded that the proportion of operating companies which are contenstants is equal to the proportion of operating companies which are winners because there is no statistically significant difference. We can be 95% confident of our conclusion."
   ]
  },
  {
   "cell_type": "code",
   "execution_count": null,
   "id": "66166487",
   "metadata": {},
   "outputs": [],
   "source": []
  },
  {
   "cell_type": "code",
   "execution_count": null,
   "id": "5d4a7b03",
   "metadata": {},
   "outputs": [],
   "source": []
  }
 ],
 "metadata": {
  "kernelspec": {
   "display_name": "Python 3 (ipykernel)",
   "language": "python",
   "name": "python3"
  },
  "language_info": {
   "codemirror_mode": {
    "name": "ipython",
    "version": 3
   },
   "file_extension": ".py",
   "mimetype": "text/x-python",
   "name": "python",
   "nbconvert_exporter": "python",
   "pygments_lexer": "ipython3",
   "version": "3.9.7"
  }
 },
 "nbformat": 4,
 "nbformat_minor": 5
}
